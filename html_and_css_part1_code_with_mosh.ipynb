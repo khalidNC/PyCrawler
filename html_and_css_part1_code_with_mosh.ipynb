{
  "nbformat": 4,
  "nbformat_minor": 0,
  "metadata": {
    "colab": {
      "provenance": [],
      "collapsed_sections": [
        "tCHZb-jDC1mo"
      ],
      "authorship_tag": "ABX9TyNtvgfdXDT8Y9qSFLvqJqx9",
      "include_colab_link": true
    },
    "kernelspec": {
      "name": "python3",
      "display_name": "Python 3"
    },
    "language_info": {
      "name": "python"
    }
  },
  "cells": [
    {
      "cell_type": "markdown",
      "metadata": {
        "id": "view-in-github",
        "colab_type": "text"
      },
      "source": [
        "<a href=\"https://colab.research.google.com/github/khalidNC/PyCrawler/blob/main/html_and_css_part1_code_with_mosh.ipynb\" target=\"_parent\"><img src=\"https://colab.research.google.com/assets/colab-badge.svg\" alt=\"Open In Colab\"/></a>"
      ]
    },
    {
      "cell_type": "markdown",
      "source": [
        "# **HTML5 and CSS3 Part1:**"
      ],
      "metadata": {
        "id": "_9hugL9WADTz"
      }
    },
    {
      "cell_type": "markdown",
      "source": [
        "## **Getting Started:**"
      ],
      "metadata": {
        "id": "tCHZb-jDC1mo"
      }
    },
    {
      "cell_type": "markdown",
      "source": [
        "### **Introduction:**\n",
        "Welcome to the first part of the HTML and CSS fundamentals. In th9is part we will cover the fundamentals of web development with html and css. In the second part we will explore advance concepts of html and css and in the third part we will put everything together and build a responsive, fast and beautiful website."
      ],
      "metadata": {
        "id": "qYiCObnyDUVf"
      }
    },
    {
      "cell_type": "markdown",
      "source": [
        "### **Who this document is for:**\n",
        "Both beginners and experienced person can be benefited with this document."
      ],
      "metadata": {
        "id": "1u43hg-LDAVT"
      }
    },
    {
      "cell_type": "markdown",
      "source": [
        "### **Tools we need:**\n",
        "The tools we need for getting started:\n",
        "1. Code editor like vscode, sublime text, atom etc and we use vscode.\n",
        "2. Download few extensions in vscode:\n",
        "  *   Prettier: with this extension we can format our code and make pretty.\n",
        "  *   Live Server: With this we can lunch website inside a development server.\n",
        "3. A browser to view and test our website. In this case, we use google chrome.\n",
        "\n"
      ],
      "metadata": {
        "id": "q69cJtxUEsRu"
      }
    },
    {
      "cell_type": "markdown",
      "source": [
        "## **Web development fundamentals:**\n"
      ],
      "metadata": {
        "id": "sBVNm-rzJoVp"
      }
    },
    {
      "cell_type": "markdown",
      "source": [
        "### **Introduction:**\n",
        "We will learn:\n",
        "1. The languages and tools of we development.\n",
        "2. Key concepts(e.g URL, HTTP, DOM, etc).\n",
        "3. How a website works: Like what happens when we visit a website in a browser.\n",
        "4. Inspect network traffic using DevTools.\n",
        "5. Basic of HTML and CSS.\n",
        "6. Validating wepages\n"
      ],
      "metadata": {
        "id": "EGHjwba_J88i"
      }
    },
    {
      "cell_type": "markdown",
      "source": [
        "### **Languages and tools of we development:**\n",
        "This is the first step: to become a we developer. Let's draw a roadmap to know where you are and where you should go next. Every website has 2 parts, front-end and back-end.\n",
        "\n",
        "Frontend is the part that you see in your browser and interact with all the visual.\n",
        "\n",
        "Backend is the part that powers the frontend, it is behind the scenes. And it is aminly about storing data in databses and providing it to the frontend.\n",
        "\n",
        "So web development job falls into three main categories, front-end development, back-end development, full-stack development.\n",
        "\n",
        "Front-end development needs:\n",
        "1. **HTML:** Hypertext Markup Language is used to difine the building blocks of a webpage.\n",
        "2. **CSS:** Cascading Style Sheet is used for styling webpages and making them beautiful.\n",
        "3. **JavaScript:** is used for adding functionality to webpages.\n",
        "\n",
        "Let's take an example, think of a building in the real world. Like a webpage in the internet it has a skeleton or structure. It can have walls, windows, tiles, and it can have some certain functionalities for example, when you press button of the lift it comes up.\n",
        "\n",
        "Let's take a real example now, Twitter app for each tweet we want to have a layout like this:\n",
        "![picture](https://drive.google.com/uc?id=1GlCSvsPN0sLLjfb6xUVtflycMhjo7tcW)\n",
        "\n",
        "So we use HTML to define all the building blocks of this layout. The building blocks are here, an image some text indicating the user's twitter handle, another block of text containing the message, and three icons for commenting, retweeting, and liking the tweet.\n",
        "\n",
        "We use HTML to add these building blocks to our webpage. Then we use CSS to give visual effect. For example, with CSS we can make the font bold, we can make our image round, we can add padding, we can change the color of the icons, we can also create animation with CSS and so on.\n",
        "\n",
        "The most webpages in this day are interactive. They response to our actions like clicks, scrools etc. This is where JavaScript comes in. With JS we can add functionality or behavior to our webpages, for example we can like a tweet.\n",
        "\n",
        "So JavaScript is a programming languages while HTML, CSS are not meaning we can not use them to tell computers what to do. We use them to define buidling blocks of webpage and for styling them.\n",
        "\n",
        "Front-end framework:\n",
        "Building websites often include a bunch of repetitive tasks. This is where front-end frameworks or libraries come in. A framework or library comes with a lot of code that we can resue in our wesites. So they help us to get the job done faster. That's why lot of companies this day use one of these populr frameworks like, React, Angular, Vue. Technically React is not a framework, it's a library. But all these tools serve the same purpose. They help us to build application faster. Now to start we do not need to learn all of these, React is enough to get started."
      ],
      "metadata": {
        "id": "DZawZWp2L5te"
      }
    },
    {
      "cell_type": "markdown",
      "source": [
        "### **How a website works:**\n",
        "Let's find out what exactly happens when someone hit a web address in the browser. Let's say we open a browser and headover to the New York Times website: http://www.nytimes.com the web address is called URL, which is Uniform Resource Locator.\n",
        "\n",
        "Basically it is a way to locate a resource on the internet. Resources can be webpages, aslo called html documents, they can be images, video files and so on.\n",
        "\n",
        "So what happes when we hit the URL in the browser address bar? Well, there are 2 things involved here:\n",
        "> 1. Browser, also called client\n",
        "> 2. the computer or computers that host our teget website called web server\n",
        "\n",
        "And this is what we called client server model. The client requests service and the server provides the service. So our browser send a message to the server and says, hey give the the homepage of this website. This kine of how you are sending a text message to your friend, think of your phone is clinet sending the message and your friend's phone as the server receiving the message. Now back to our example.\n",
        "\n",
        "The message is formatted based on a protocol called, HTTP or Hypertext Transfer Protocol. HTTP is a language the clients and servers use to talk to each other. It is not a programing language, it is just plain textual language for communicating over the internet. We also have HTTPS which is HTTP with encryption, so the messages exchanged between the server and the client are encrypted.\n",
        "\n",
        "Here is a simplified example of HTTP message:\n",
        "```\n",
        "      GET /index.html HTTP/1.1\n",
        "      HOST: www.nytimes.com\n",
        "      Accept-Language: en-us\n",
        "```\n",
        "With this message the browser tells the server what it is looking for. So in the first line it says it wants to get a page or a file called index.html using HTTP version 1.1 the index.html often represents a homepage of websites.\n",
        "\n",
        "In the second line, we can see the host, that is nytimes.com\n",
        "\n",
        "And in the line, we can see the language that the client can accept, in this case it is English.\n",
        "\n",
        "This is the message based on the HTTP protocol that client and server understand.\n",
        "\n",
        "So the server receive the message, it figures out what the client is asking and then it will send a message back to the client.\n",
        "\n",
        "The first message is called HTTP request and the second message is called HTTP response. Every data exchange using the HTTP protocol involves two messages, a request and a response.\n",
        "\n",
        "Now what is in the response? Here is a simplified example of HTTP response:\n",
        "```\n",
        "HTTP/1.1 200 OK\n",
        "Date: 1 Jan 2024 09:30\n",
        "Content-Type: text/html\n",
        "\n",
        "<!DOCTYPE html>\n",
        "<html>\n",
        "....\n",
        "</html>\n",
        "```\n",
        "\n",
        "\n",
        "\n",
        "\n",
        "\n"
      ],
      "metadata": {
        "id": "PkEksifp2ZjR"
      }
    }
  ]
}